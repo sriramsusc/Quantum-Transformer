{
  "nbformat": 4,
  "nbformat_minor": 0,
  "metadata": {
    "colab": {
      "provenance": [],
      "toc_visible": true,
      "collapsed_sections": [
        "H8536sY4lP9Q",
        "Ox0SdhreoWru",
        "5dxLcJQxpjzg",
        "3C-xKJAsqUiH",
        "L8xTHPayxNNO",
        "VYelgzHw1pDo",
        "eQP9ItEF_6CN",
        "6Lg9qgqjvFfm"
      ]
    },
    "kernelspec": {
      "name": "python3",
      "display_name": "Python 3"
    },
    "language_info": {
      "name": "python"
    }
  },
  "cells": [
    {
      "cell_type": "markdown",
      "source": [
        "# Imports and global inits\n"
      ],
      "metadata": {
        "id": "ZPCFUoFrieEc"
      }
    },
    {
      "cell_type": "code",
      "source": [
        "!pip install qiskit\n",
        "!pip install qiskit_algorithms\n",
        "!pip install qiskit_nature[pyscf] -U\n",
        "from qiskit import QuantumCircuit, QuantumRegister\n",
        "from qiskit.circuit.library import RXGate, RYGate, RZGate, CZGate\n",
        "from qiskit.circuit import Parameter, ParameterVector, Instruction\n",
        "from qiskit_nature.second_q.operators import FermionicOp\n",
        "from qiskit_nature.second_q.mappers import JordanWignerMapper\n",
        "from qiskit_nature.second_q.drivers import PySCFDriver\n",
        "from qiskit_nature.second_q.algorithms import GroundStateEigensolver\n",
        "from qiskit_nature.units import DistanceUnit\n",
        "from qiskit.quantum_info import Pauli, PauliList, Operator\n",
        "from qiskit_algorithms.optimizers import SLSQP\n",
        "from qiskit_algorithms.minimum_eigensolvers import VQE\n",
        "from qiskit.primitives import Estimator\n",
        "from sympy import Symbol\n",
        "from qiskit.circuit.quantumregister import Qubit\n",
        "import pandas as pd\n",
        "import matplotlib.pyplot as plt\n",
        "import numpy as np\n",
        "\n",
        "converter= JordanWignerMapper()\n",
        "\n",
        "# Set hyperparameters\n",
        "start_distance = 0.5\n",
        "end_distance = 2.0\n",
        "step_distance = 0.1\n",
        "num_layers = 5\n",
        "num_epochs = 100\n",
        "batch_size = 32\n",
        "learning_rate = 0.01\n",
        "\n"
      ],
      "metadata": {
        "id": "o3fwaJ2gitH2"
      },
      "execution_count": null,
      "outputs": []
    },
    {
      "cell_type": "markdown",
      "source": [
        "## Defining Operator pool"
      ],
      "metadata": {
        "id": "jy4ZB5JyjpA6"
      }
    },
    {
      "cell_type": "code",
      "source": [
        "# Define the operator pool and time evolution parameters\n",
        "def operator_pool(num_qubits):\n",
        "    pauli_strings = ['I', 'X', 'Y', 'Z']\n",
        "    rotation_gates = ['RX', 'RY', 'RZ']\n",
        "    single_qubit_gates = ['H']  # Add Hadamard gate to the pool\n",
        "    pool = []\n",
        "    for i in range(num_qubits):\n",
        "        for pauli in pauli_strings:\n",
        "            if pauli == 'I':\n",
        "                pool.append(Pauli('I' * num_qubits))\n",
        "            else:\n",
        "                pauli_label = 'I' * i + pauli + 'I' * (num_qubits - i - 1)\n",
        "                pool.append(Pauli(pauli_label))\n",
        "        for gate in rotation_gates:\n",
        "            pool.append((gate, i))\n",
        "        for gate in single_qubit_gates:\n",
        "            pool.append((gate, i))  # Add Hadamard gate for each qubit\n",
        "    for control in range(num_qubits):\n",
        "        for target in range(num_qubits):\n",
        "            if control != target:\n",
        "                pool.append(('CNOT', control, target))\n",
        "    return pool\n",
        "time_params = [np.pi / 2, np.pi / 4, np.pi / 8, np.pi / 16]"
      ],
      "metadata": {
        "id": "NjJgYAqxjscb"
      },
      "execution_count": null,
      "outputs": []
    },
    {
      "cell_type": "markdown",
      "source": [
        "# Circuit Generation based on sequence"
      ],
      "metadata": {
        "id": "GXHm-f_qj3jU"
      }
    },
    {
      "cell_type": "code",
      "source": [
        "# Define the function to generate a circuit from a sequence\n",
        "def generate_circuit(num_qubits, sequence):\n",
        "    qc = QuantumCircuit(num_qubits)\n",
        "    parameters = ParameterVector('theta', len(sequence))\n",
        "    pool_size = len(operator_pool(num_qubits))\n",
        "    for i, item_tuple in enumerate(sequence):\n",
        "        item_idx = item_tuple[0] % pool_size  # Wrap item_idx within the valid range\n",
        "        item = operator_pool(num_qubits)[item_idx]\n",
        "        if isinstance(item, Pauli):\n",
        "            qc.append(item.to_instruction(), qargs=range(num_qubits))\n",
        "            qc.rz(parameters[i], range(num_qubits))\n",
        "        elif len(item) == 2:\n",
        "            gate, qubit = item\n",
        "            if gate == 'RX':\n",
        "                qc.rx(parameters[i], qubit)\n",
        "            elif gate == 'RY':\n",
        "                qc.ry(parameters[i], qubit)\n",
        "            elif gate == 'RZ':\n",
        "                qc.rz(parameters[i], qubit)\n",
        "            elif gate == 'H':\n",
        "                qc.h(qubit)\n",
        "        elif len(item) == 3:\n",
        "            gate, control, target = item\n",
        "            if gate == 'CNOT':\n",
        "                qc.cx(control, target)\n",
        "    return qc"
      ],
      "metadata": {
        "id": "64UXH4W0j6lE"
      },
      "execution_count": null,
      "outputs": []
    },
    {
      "cell_type": "markdown",
      "source": [
        "# Quantum Transformer Utilities"
      ],
      "metadata": {
        "id": "Ox0SdhreoWru"
      }
    },
    {
      "cell_type": "markdown",
      "source": [
        "## Matrix Data Loader"
      ],
      "metadata": {
        "id": "5dxLcJQxpjzg"
      }
    },
    {
      "cell_type": "code",
      "source": [
        "def matrix_data_loader(qc, matrix):\n",
        "    num_rows, num_cols = matrix.shape\n",
        "    num_qubits = qc.num_qubits\n",
        "\n",
        "    # Determine the number of qubits needed for each register\n",
        "    num_row_qubits = int(np.ceil(np.log2(num_rows)))\n",
        "    num_col_qubits = int(np.ceil(np.log2(num_cols)))\n",
        "\n",
        "    # Create quantum registers for rows and columns\n",
        "    row_register = QuantumRegister(num_row_qubits, name='row')\n",
        "    col_register = QuantumRegister(num_col_qubits, name='col')\n",
        "\n",
        "    # Add the registers to the quantum circuit\n",
        "    qc.add_register(row_register)\n",
        "    qc.add_register(col_register)\n",
        "\n",
        "    # Load the norms of each row into the row register\n",
        "    row_norms = np.linalg.norm(matrix, axis=1)\n",
        "    load_vector(qc, row_norms, row_register)\n",
        "\n",
        "    # Load each row of the matrix into the column register\n",
        "    for i in range(num_rows):\n",
        "        # Load the i-th row into the column register\n",
        "        load_vector(qc, matrix[i], col_register, inverse=False)\n",
        "\n",
        "        # Apply controlled operations to entangle the row and column registers\n",
        "        if num_col_qubits > 0:\n",
        "            control_qubit = min(i, num_row_qubits - 1)\n",
        "            target_qubit = min(i, num_col_qubits - 1)\n",
        "            qc.cz(row_register[control_qubit], col_register[target_qubit])\n",
        "\n",
        "        # Unload the i-th row from the column register\n",
        "        load_vector(qc, matrix[i], col_register, inverse=True)\n",
        "\n",
        "    return qc\n",
        "\n",
        "def load_vector(qc, vector, qubits, inverse=False):\n",
        "    # Check if the vector contains NaN values\n",
        "    if np.isnan(vector).any():\n",
        "        # If the vector contains NaN values, initialize the qubits to the zero state\n",
        "        qc.reset(qubits)\n",
        "    else:\n",
        "        # Normalize the vector\n",
        "        norm = np.linalg.norm(vector)\n",
        "        if norm < 1e-8:  # Check if the norm is close to zero\n",
        "            # If the norm is close to zero, initialize the qubits to the zero state\n",
        "            qc.reset(qubits)\n",
        "        else:\n",
        "            normalized_vector = vector / norm\n",
        "            # Apply the loading operation or its inverse\n",
        "            if not inverse:\n",
        "                qc.initialize(normalized_vector, qubits)\n",
        "            else:\n",
        "                qc.initialize(normalized_vector.conj(), qubits)\n",
        "\n",
        "    return qc"
      ],
      "metadata": {
        "id": "gPZFQcxSobcc"
      },
      "execution_count": null,
      "outputs": []
    },
    {
      "cell_type": "markdown",
      "source": [
        "The resulting quantum state after applying the matrix data loader is a superposition of the form:\n",
        "|X⟩ = (1 / ∥X∥) ∑ᵢ ∑ⱼ Xᵢⱼ |eⱼ⟩ |eᵢ⟩, efficiently encoding the matrix into quantum states"
      ],
      "metadata": {
        "id": "IkvurLExtdFs"
      }
    },
    {
      "cell_type": "markdown",
      "source": [
        "## Orthogonal Layer Circuit (Butterfly)"
      ],
      "metadata": {
        "id": "3C-xKJAsqUiH"
      }
    },
    {
      "cell_type": "code",
      "source": [
        "# RBS Gate defn for orthogonal layer as it is not a native gate in qiskit\n",
        "def rbs(qc, theta, qubit1, qubit2):\n",
        "    # Apply an RBS gate with angle theta to the specified qubits\n",
        "    qc.cx(qubit1, qubit2)\n",
        "    qc.ry(-theta / 2, qubit2)\n",
        "    qc.cx(qubit1, qubit2)\n",
        "    qc.ry(theta / 2, qubit2)\n",
        "    return qc"
      ],
      "metadata": {
        "id": "CFArOU4iRNPL"
      },
      "execution_count": null,
      "outputs": []
    },
    {
      "cell_type": "code",
      "source": [
        "def butterfly_circuit(qc, num_qubits, parameters):\n",
        "    # Apply the parameterized RBS gates to the quantum circuit\n",
        "    num_layers = int(np.log2(num_qubits))\n",
        "\n",
        "    param_index = 0\n",
        "    for layer in range(num_layers):\n",
        "        block_size = 2 ** (layer + 1)\n",
        "        num_blocks = num_qubits // block_size\n",
        "\n",
        "        for block in range(num_blocks):\n",
        "            start_index = block * block_size\n",
        "\n",
        "            for i in range(block_size // 2):\n",
        "                if param_index < len(parameters):\n",
        "                    theta = parameters[param_index]\n",
        "                    qubit1 = start_index + i\n",
        "                    qubit2 = start_index + i + block_size // 2\n",
        "                    qc = rbs(qc, theta, qubit1, qubit2)\n",
        "                    param_index += 1\n",
        "    return qc"
      ],
      "metadata": {
        "id": "nllfK3IGqdKf"
      },
      "execution_count": null,
      "outputs": []
    },
    {
      "cell_type": "markdown",
      "source": [
        "## Quantum transformer Layer"
      ],
      "metadata": {
        "id": "L8xTHPayxNNO"
      }
    },
    {
      "cell_type": "code",
      "source": [
        "# Defines a single layer of the quantum transformer\n",
        "# Parameters are the input quantum circuit, number of qubits, hamiltonian matrix and set of trainable parameters\n",
        "# These parameters are used to parameterize the gates in the butterfly circuit within each layer\n",
        "def quantum_transformer_layer(sequence, hamiltonian, layer_parameters):\n",
        "    # Convert the input sequence to a quantum circuit\n",
        "    # print(np.sqrt(len(hamiltonian)))\n",
        "    num_q=np.sqrt(len(hamiltonian))\n",
        "    qc = generate_circuit(num_q.astype(int), sequence)\n",
        "\n",
        "    # Load the Hamiltonian matrix into a superposition of quantum states\n",
        "    qc = matrix_data_loader(qc, hamiltonian)\n",
        "\n",
        "    # Apply the parameterized butterfly circuit to the loaded quantum state\n",
        "    qc = butterfly_circuit(qc, qc.num_qubits, layer_parameters)\n",
        "\n",
        "    # Extract the new sequence of quantum gates or operators from the modified circuit\n",
        "    new_sequence = extract_sequence(qc, num_q)\n",
        "\n",
        "    return new_sequence"
      ],
      "metadata": {
        "id": "RCXQUFLhxQ54"
      },
      "execution_count": null,
      "outputs": []
    },
    {
      "cell_type": "markdown",
      "source": [
        "## Sequence extractor"
      ],
      "metadata": {
        "id": "VYelgzHw1pDo"
      }
    },
    {
      "cell_type": "code",
      "source": [
        "def extract_sequence(qc, num_qubits):\n",
        "    # Extract the sequence of quantum gates or operators from the quantum circuit\n",
        "    sequence = []\n",
        "    num_qubits = int(num_qubits)  # Convert num_qubits to an integer\n",
        "    pool = operator_pool(num_qubits)\n",
        "    max_qubit_index = num_qubits - 1  # Highest qubit index\n",
        "    for gate in qc.data:\n",
        "        if isinstance(gate[0], (RXGate, RYGate, RZGate)):\n",
        "            qubit = gate[1][0]\n",
        "            gate_type = gate[0].name.upper()\n",
        "            qubit_index = qc.find_bit(qubit).index  # Get the index of the qubit within the circuit\n",
        "            qubit_index = qubit_index % max_qubit_index  # Assign default value using modulo\n",
        "            item_idx = pool.index((gate_type, qubit_index))\n",
        "            time_idx = np.random.randint(len(time_params))\n",
        "            sequence.append((item_idx, time_idx))\n",
        "        elif isinstance(gate[0], (Pauli, PauliList)):\n",
        "            pauli_label = gate[0].to_label()\n",
        "            item_idx = pool.index(Pauli(pauli_label))\n",
        "            time_idx = np.random.randint(len(time_params))\n",
        "            sequence.append((item_idx, time_idx))\n",
        "        elif isinstance(gate[0], Instruction) and gate[0].name == 'rz':\n",
        "            qubit = gate[1][0]\n",
        "            qubit_index = qc.find_bit(qubit).index  # Get the index of the qubit within the circuit\n",
        "            qubit_index = qubit_index % max_qubit_index  # Assign default value using modulo\n",
        "            item_idx = pool.index(('RZ', qubit_index))\n",
        "            time_idx = np.random.randint(len(time_params))\n",
        "            sequence.append((item_idx, time_idx))\n",
        "        elif isinstance(gate[0], Instruction) and gate[0].name == 'cx':\n",
        "            control_qubit = gate[1][0]\n",
        "            target_qubit = gate[1][1]\n",
        "            control_index = qc.find_bit(control_qubit).index\n",
        "            target_index = qc.find_bit(target_qubit).index\n",
        "            control_index = control_index % max_qubit_index\n",
        "            target_index = target_index % max_qubit_index\n",
        "            item_idx = pool.index(('CNOT', control_index, target_index))\n",
        "            sequence.append((item_idx, control_index, target_index))  # Append a tuple with three elements\n",
        "    return sequence"
      ],
      "metadata": {
        "id": "Ft0jUVkD1nbw"
      },
      "execution_count": null,
      "outputs": []
    },
    {
      "cell_type": "markdown",
      "source": [
        "# Quantum Transformer"
      ],
      "metadata": {
        "id": "eQP9ItEF_6CN"
      }
    },
    {
      "cell_type": "code",
      "source": [
        "def quantum_transformer(initial_sequence, hamiltonian, num_layers):\n",
        "    current_sequence = initial_sequence\n",
        "\n",
        "    for i in range(num_layers):\n",
        "        layer_parameters = ParameterVector(f'theta_{i}', len(current_sequence))\n",
        "        current_sequence = quantum_transformer_layer(current_sequence, hamiltonian, layer_parameters)\n",
        "\n",
        "    target_length = 2 * len(initial_sequence)\n",
        "    if len(current_sequence) < target_length:\n",
        "        padding_length = target_length - len(current_sequence)\n",
        "        pool_size = len(operator_pool(int(np.sqrt(len(hamiltonian)))))\n",
        "        for _ in range(padding_length):\n",
        "            if np.random.rand() < 0.8:  # 50% probability of adding a CNOT gate\n",
        "                control = np.random.randint(int(np.sqrt(len(hamiltonian))))\n",
        "                target = np.random.randint(int(np.sqrt(len(hamiltonian))))\n",
        "                while control == target:\n",
        "                    target = np.random.randint(int(np.sqrt(len(hamiltonian))))\n",
        "                current_sequence.append(('CNOT', control, target))\n",
        "            else:  # 50% probability of adding a non-CNOT gate\n",
        "                item_idx = np.random.randint(pool_size)\n",
        "                time_idx = np.random.randint(len(time_params))\n",
        "                current_sequence.append((item_idx, time_idx))\n",
        "    elif len(current_sequence) > target_length:\n",
        "        current_sequence = current_sequence[:target_length]\n",
        "\n",
        "    return current_sequence"
      ],
      "metadata": {
        "id": "ha07UPX-_-OX"
      },
      "execution_count": null,
      "outputs": []
    },
    {
      "cell_type": "markdown",
      "source": [
        "# Execution calls and plotting"
      ],
      "metadata": {
        "id": "6Lg9qgqjvFfm"
      }
    },
    {
      "cell_type": "code",
      "source": [
        "molecule1 = f\"H 0 0 0; H 0 0 0.7\"\n",
        "driver1 = PySCFDriver(atom=molecule1, basis=\"sto3g\", charge=0, spin=0, unit=DistanceUnit.ANGSTROM)\n",
        "es_problem1 = driver1.run()\n",
        "# Get the Hamiltonian matrix\n",
        "hamiltonian_matrix = converter.map(es_problem1.hamiltonian.second_q_op()).to_matrix()"
      ],
      "metadata": {
        "id": "3KeVie6rjyhm"
      },
      "execution_count": null,
      "outputs": []
    },
    {
      "cell_type": "code",
      "source": [
        "\n",
        "# Define the initial sequence\n",
        "initial_sequence = [\n",
        "    (1,3),\n",
        "    (5,1),\n",
        "    (2,1,3),\n",
        "    (6,2,1),\n",
        "    (3,1),\n",
        "    (2,1)\n",
        "]\n",
        "distances = np.arange(0.1,4,0.1)\n",
        "optimal_energies = []\n",
        "initial_energies = []\n",
        "num_qubits = 4\n",
        "ansatz = generate_circuit(num_qubits, initial_sequence)\n",
        "vqe_solver = VQE(Estimator(), ansatz, SLSQP())\n",
        "optimal_sequence = quantum_transformer(initial_sequence, hamiltonian_matrix, num_layers)\n",
        "optimal_ansatz = generate_circuit(num_qubits, optimal_sequence)\n",
        "\n",
        "for dist in distances:\n",
        "    driver = PySCFDriver(\n",
        "        atom=f\"H 0 0 0; H 0 0 {dist}\",\n",
        "        basis=\"sto3g\",\n",
        "        charge=0,\n",
        "        spin=0,\n",
        "        unit=DistanceUnit.ANGSTROM,\n",
        "    )\n",
        "\n",
        "    es_problem = driver.run()\n",
        "    vqe_solver = VQE(Estimator(), ansatz, SLSQP())\n",
        "    vqe_solver1 = VQE(Estimator(), optimal_ansatz, SLSQP())\n",
        "    num_particles = es_problem.num_particles\n",
        "    num_spatial_orbitals = es_problem.num_spatial_orbitals\n",
        "    num_qubits = num_spatial_orbitals * 2\n",
        "    ansatz = generate_circuit(num_qubits, initial_sequence)\n",
        "    calc = GroundStateEigensolver(converter, vqe_solver)\n",
        "    res = calc.solve(es_problem)\n",
        "\n",
        "    initial_energies.append(res.total_energies[0].real)\n",
        "\n",
        "    calc1 = GroundStateEigensolver(converter, vqe_solver1)\n",
        "    res1 = calc1.solve(es_problem)\n",
        "\n",
        "    optimal_energies.append(res1.total_energies[0].real)\n",
        "\n",
        "\n",
        "plt.figure(figsize=(8, 6))\n",
        "plt.plot(distances, optimal_energies, marker='o', label='Optimal Sequence')\n",
        "plt.plot(distances, initial_energies, marker='x', label='Initial Sequence')\n",
        "plt.xlabel('Distance (Angstrom)')\n",
        "plt.ylabel('Ground State Energy (Hartree)')\n",
        "plt.title('Ground State Energy vs Distance for H2')\n",
        "plt.legend()\n",
        "plt.grid(True)\n",
        "plt.show()"
      ],
      "metadata": {
        "colab": {
          "base_uri": "https://localhost:8080/",
          "height": 1000
        },
        "id": "N5MYDUAlC5Xk",
        "outputId": "9b337893-5b63-4a4a-df67-79861e17be63"
      },
      "execution_count": null,
      "outputs": [
        {
          "output_type": "stream",
          "name": "stderr",
          "text": [
            "<ipython-input-21-654da59716bb>:15: DeprecationWarning: The class ``qiskit.primitives.estimator.Estimator`` is deprecated as of qiskit 1.2. It will be removed no earlier than 3 months after the release date. All implementations of the `BaseEstimatorV1` interface have been deprecated in favor of their V2 counterparts. The V2 alternative for the `Estimator` class is `StatevectorEstimator`.\n",
            "  vqe_solver = VQE(Estimator(), ansatz, SLSQP())\n",
            "<ipython-input-16-6d3028a7e5a2>:8: DeprecationWarning: Treating CircuitInstruction as an iterable is deprecated legacy behavior since Qiskit 1.2, and will be removed in Qiskit 2.0. Instead, use the `operation`, `qubits` and `clbits` named attributes.\n",
            "  if isinstance(gate[0], (RXGate, RYGate, RZGate)):\n",
            "<ipython-input-16-6d3028a7e5a2>:16: DeprecationWarning: Treating CircuitInstruction as an iterable is deprecated legacy behavior since Qiskit 1.2, and will be removed in Qiskit 2.0. Instead, use the `operation`, `qubits` and `clbits` named attributes.\n",
            "  elif isinstance(gate[0], (Pauli, PauliList)):\n",
            "<ipython-input-16-6d3028a7e5a2>:21: DeprecationWarning: Treating CircuitInstruction as an iterable is deprecated legacy behavior since Qiskit 1.2, and will be removed in Qiskit 2.0. Instead, use the `operation`, `qubits` and `clbits` named attributes.\n",
            "  elif isinstance(gate[0], Instruction) and gate[0].name == 'rz':\n",
            "<ipython-input-16-6d3028a7e5a2>:28: DeprecationWarning: Treating CircuitInstruction as an iterable is deprecated legacy behavior since Qiskit 1.2, and will be removed in Qiskit 2.0. Instead, use the `operation`, `qubits` and `clbits` named attributes.\n",
            "  elif isinstance(gate[0], Instruction) and gate[0].name == 'cx':\n",
            "<ipython-input-16-6d3028a7e5a2>:9: DeprecationWarning: Treating CircuitInstruction as an iterable is deprecated legacy behavior since Qiskit 1.2, and will be removed in Qiskit 2.0. Instead, use the `operation`, `qubits` and `clbits` named attributes.\n",
            "  qubit = gate[1][0]\n",
            "<ipython-input-16-6d3028a7e5a2>:10: DeprecationWarning: Treating CircuitInstruction as an iterable is deprecated legacy behavior since Qiskit 1.2, and will be removed in Qiskit 2.0. Instead, use the `operation`, `qubits` and `clbits` named attributes.\n",
            "  gate_type = gate[0].name.upper()\n",
            "<ipython-input-16-6d3028a7e5a2>:29: DeprecationWarning: Treating CircuitInstruction as an iterable is deprecated legacy behavior since Qiskit 1.2, and will be removed in Qiskit 2.0. Instead, use the `operation`, `qubits` and `clbits` named attributes.\n",
            "  control_qubit = gate[1][0]\n",
            "<ipython-input-16-6d3028a7e5a2>:30: DeprecationWarning: Treating CircuitInstruction as an iterable is deprecated legacy behavior since Qiskit 1.2, and will be removed in Qiskit 2.0. Instead, use the `operation`, `qubits` and `clbits` named attributes.\n",
            "  target_qubit = gate[1][1]\n",
            "<ipython-input-21-654da59716bb>:29: DeprecationWarning: The class ``qiskit.primitives.estimator.Estimator`` is deprecated as of qiskit 1.2. It will be removed no earlier than 3 months after the release date. All implementations of the `BaseEstimatorV1` interface have been deprecated in favor of their V2 counterparts. The V2 alternative for the `Estimator` class is `StatevectorEstimator`.\n",
            "  vqe_solver = VQE(Estimator(), ansatz, SLSQP())\n",
            "<ipython-input-21-654da59716bb>:30: DeprecationWarning: The class ``qiskit.primitives.estimator.Estimator`` is deprecated as of qiskit 1.2. It will be removed no earlier than 3 months after the release date. All implementations of the `BaseEstimatorV1` interface have been deprecated in favor of their V2 counterparts. The V2 alternative for the `Estimator` class is `StatevectorEstimator`.\n",
            "  vqe_solver1 = VQE(Estimator(), optimal_ansatz, SLSQP())\n",
            "<ipython-input-21-654da59716bb>:29: DeprecationWarning: The class ``qiskit.primitives.estimator.Estimator`` is deprecated as of qiskit 1.2. It will be removed no earlier than 3 months after the release date. All implementations of the `BaseEstimatorV1` interface have been deprecated in favor of their V2 counterparts. The V2 alternative for the `Estimator` class is `StatevectorEstimator`.\n",
            "  vqe_solver = VQE(Estimator(), ansatz, SLSQP())\n",
            "<ipython-input-21-654da59716bb>:30: DeprecationWarning: The class ``qiskit.primitives.estimator.Estimator`` is deprecated as of qiskit 1.2. It will be removed no earlier than 3 months after the release date. All implementations of the `BaseEstimatorV1` interface have been deprecated in favor of their V2 counterparts. The V2 alternative for the `Estimator` class is `StatevectorEstimator`.\n",
            "  vqe_solver1 = VQE(Estimator(), optimal_ansatz, SLSQP())\n",
            "<ipython-input-21-654da59716bb>:29: DeprecationWarning: The class ``qiskit.primitives.estimator.Estimator`` is deprecated as of qiskit 1.2. It will be removed no earlier than 3 months after the release date. All implementations of the `BaseEstimatorV1` interface have been deprecated in favor of their V2 counterparts. The V2 alternative for the `Estimator` class is `StatevectorEstimator`.\n",
            "  vqe_solver = VQE(Estimator(), ansatz, SLSQP())\n",
            "<ipython-input-21-654da59716bb>:30: DeprecationWarning: The class ``qiskit.primitives.estimator.Estimator`` is deprecated as of qiskit 1.2. It will be removed no earlier than 3 months after the release date. All implementations of the `BaseEstimatorV1` interface have been deprecated in favor of their V2 counterparts. The V2 alternative for the `Estimator` class is `StatevectorEstimator`.\n",
            "  vqe_solver1 = VQE(Estimator(), optimal_ansatz, SLSQP())\n",
            "<ipython-input-21-654da59716bb>:29: DeprecationWarning: The class ``qiskit.primitives.estimator.Estimator`` is deprecated as of qiskit 1.2. It will be removed no earlier than 3 months after the release date. All implementations of the `BaseEstimatorV1` interface have been deprecated in favor of their V2 counterparts. The V2 alternative for the `Estimator` class is `StatevectorEstimator`.\n",
            "  vqe_solver = VQE(Estimator(), ansatz, SLSQP())\n",
            "<ipython-input-21-654da59716bb>:30: DeprecationWarning: The class ``qiskit.primitives.estimator.Estimator`` is deprecated as of qiskit 1.2. It will be removed no earlier than 3 months after the release date. All implementations of the `BaseEstimatorV1` interface have been deprecated in favor of their V2 counterparts. The V2 alternative for the `Estimator` class is `StatevectorEstimator`.\n",
            "  vqe_solver1 = VQE(Estimator(), optimal_ansatz, SLSQP())\n",
            "<ipython-input-21-654da59716bb>:29: DeprecationWarning: The class ``qiskit.primitives.estimator.Estimator`` is deprecated as of qiskit 1.2. It will be removed no earlier than 3 months after the release date. All implementations of the `BaseEstimatorV1` interface have been deprecated in favor of their V2 counterparts. The V2 alternative for the `Estimator` class is `StatevectorEstimator`.\n",
            "  vqe_solver = VQE(Estimator(), ansatz, SLSQP())\n",
            "<ipython-input-21-654da59716bb>:30: DeprecationWarning: The class ``qiskit.primitives.estimator.Estimator`` is deprecated as of qiskit 1.2. It will be removed no earlier than 3 months after the release date. All implementations of the `BaseEstimatorV1` interface have been deprecated in favor of their V2 counterparts. The V2 alternative for the `Estimator` class is `StatevectorEstimator`.\n",
            "  vqe_solver1 = VQE(Estimator(), optimal_ansatz, SLSQP())\n",
            "<ipython-input-21-654da59716bb>:29: DeprecationWarning: The class ``qiskit.primitives.estimator.Estimator`` is deprecated as of qiskit 1.2. It will be removed no earlier than 3 months after the release date. All implementations of the `BaseEstimatorV1` interface have been deprecated in favor of their V2 counterparts. The V2 alternative for the `Estimator` class is `StatevectorEstimator`.\n",
            "  vqe_solver = VQE(Estimator(), ansatz, SLSQP())\n",
            "<ipython-input-21-654da59716bb>:30: DeprecationWarning: The class ``qiskit.primitives.estimator.Estimator`` is deprecated as of qiskit 1.2. It will be removed no earlier than 3 months after the release date. All implementations of the `BaseEstimatorV1` interface have been deprecated in favor of their V2 counterparts. The V2 alternative for the `Estimator` class is `StatevectorEstimator`.\n",
            "  vqe_solver1 = VQE(Estimator(), optimal_ansatz, SLSQP())\n",
            "<ipython-input-21-654da59716bb>:29: DeprecationWarning: The class ``qiskit.primitives.estimator.Estimator`` is deprecated as of qiskit 1.2. It will be removed no earlier than 3 months after the release date. All implementations of the `BaseEstimatorV1` interface have been deprecated in favor of their V2 counterparts. The V2 alternative for the `Estimator` class is `StatevectorEstimator`.\n",
            "  vqe_solver = VQE(Estimator(), ansatz, SLSQP())\n",
            "<ipython-input-21-654da59716bb>:30: DeprecationWarning: The class ``qiskit.primitives.estimator.Estimator`` is deprecated as of qiskit 1.2. It will be removed no earlier than 3 months after the release date. All implementations of the `BaseEstimatorV1` interface have been deprecated in favor of their V2 counterparts. The V2 alternative for the `Estimator` class is `StatevectorEstimator`.\n",
            "  vqe_solver1 = VQE(Estimator(), optimal_ansatz, SLSQP())\n",
            "<ipython-input-21-654da59716bb>:29: DeprecationWarning: The class ``qiskit.primitives.estimator.Estimator`` is deprecated as of qiskit 1.2. It will be removed no earlier than 3 months after the release date. All implementations of the `BaseEstimatorV1` interface have been deprecated in favor of their V2 counterparts. The V2 alternative for the `Estimator` class is `StatevectorEstimator`.\n",
            "  vqe_solver = VQE(Estimator(), ansatz, SLSQP())\n",
            "<ipython-input-21-654da59716bb>:30: DeprecationWarning: The class ``qiskit.primitives.estimator.Estimator`` is deprecated as of qiskit 1.2. It will be removed no earlier than 3 months after the release date. All implementations of the `BaseEstimatorV1` interface have been deprecated in favor of their V2 counterparts. The V2 alternative for the `Estimator` class is `StatevectorEstimator`.\n",
            "  vqe_solver1 = VQE(Estimator(), optimal_ansatz, SLSQP())\n",
            "<ipython-input-21-654da59716bb>:29: DeprecationWarning: The class ``qiskit.primitives.estimator.Estimator`` is deprecated as of qiskit 1.2. It will be removed no earlier than 3 months after the release date. All implementations of the `BaseEstimatorV1` interface have been deprecated in favor of their V2 counterparts. The V2 alternative for the `Estimator` class is `StatevectorEstimator`.\n",
            "  vqe_solver = VQE(Estimator(), ansatz, SLSQP())\n",
            "<ipython-input-21-654da59716bb>:30: DeprecationWarning: The class ``qiskit.primitives.estimator.Estimator`` is deprecated as of qiskit 1.2. It will be removed no earlier than 3 months after the release date. All implementations of the `BaseEstimatorV1` interface have been deprecated in favor of their V2 counterparts. The V2 alternative for the `Estimator` class is `StatevectorEstimator`.\n",
            "  vqe_solver1 = VQE(Estimator(), optimal_ansatz, SLSQP())\n",
            "<ipython-input-21-654da59716bb>:29: DeprecationWarning: The class ``qiskit.primitives.estimator.Estimator`` is deprecated as of qiskit 1.2. It will be removed no earlier than 3 months after the release date. All implementations of the `BaseEstimatorV1` interface have been deprecated in favor of their V2 counterparts. The V2 alternative for the `Estimator` class is `StatevectorEstimator`.\n",
            "  vqe_solver = VQE(Estimator(), ansatz, SLSQP())\n",
            "<ipython-input-21-654da59716bb>:30: DeprecationWarning: The class ``qiskit.primitives.estimator.Estimator`` is deprecated as of qiskit 1.2. It will be removed no earlier than 3 months after the release date. All implementations of the `BaseEstimatorV1` interface have been deprecated in favor of their V2 counterparts. The V2 alternative for the `Estimator` class is `StatevectorEstimator`.\n",
            "  vqe_solver1 = VQE(Estimator(), optimal_ansatz, SLSQP())\n",
            "<ipython-input-21-654da59716bb>:29: DeprecationWarning: The class ``qiskit.primitives.estimator.Estimator`` is deprecated as of qiskit 1.2. It will be removed no earlier than 3 months after the release date. All implementations of the `BaseEstimatorV1` interface have been deprecated in favor of their V2 counterparts. The V2 alternative for the `Estimator` class is `StatevectorEstimator`.\n",
            "  vqe_solver = VQE(Estimator(), ansatz, SLSQP())\n",
            "<ipython-input-21-654da59716bb>:30: DeprecationWarning: The class ``qiskit.primitives.estimator.Estimator`` is deprecated as of qiskit 1.2. It will be removed no earlier than 3 months after the release date. All implementations of the `BaseEstimatorV1` interface have been deprecated in favor of their V2 counterparts. The V2 alternative for the `Estimator` class is `StatevectorEstimator`.\n",
            "  vqe_solver1 = VQE(Estimator(), optimal_ansatz, SLSQP())\n",
            "<ipython-input-21-654da59716bb>:29: DeprecationWarning: The class ``qiskit.primitives.estimator.Estimator`` is deprecated as of qiskit 1.2. It will be removed no earlier than 3 months after the release date. All implementations of the `BaseEstimatorV1` interface have been deprecated in favor of their V2 counterparts. The V2 alternative for the `Estimator` class is `StatevectorEstimator`.\n",
            "  vqe_solver = VQE(Estimator(), ansatz, SLSQP())\n",
            "<ipython-input-21-654da59716bb>:30: DeprecationWarning: The class ``qiskit.primitives.estimator.Estimator`` is deprecated as of qiskit 1.2. It will be removed no earlier than 3 months after the release date. All implementations of the `BaseEstimatorV1` interface have been deprecated in favor of their V2 counterparts. The V2 alternative for the `Estimator` class is `StatevectorEstimator`.\n",
            "  vqe_solver1 = VQE(Estimator(), optimal_ansatz, SLSQP())\n",
            "<ipython-input-21-654da59716bb>:29: DeprecationWarning: The class ``qiskit.primitives.estimator.Estimator`` is deprecated as of qiskit 1.2. It will be removed no earlier than 3 months after the release date. All implementations of the `BaseEstimatorV1` interface have been deprecated in favor of their V2 counterparts. The V2 alternative for the `Estimator` class is `StatevectorEstimator`.\n",
            "  vqe_solver = VQE(Estimator(), ansatz, SLSQP())\n",
            "<ipython-input-21-654da59716bb>:30: DeprecationWarning: The class ``qiskit.primitives.estimator.Estimator`` is deprecated as of qiskit 1.2. It will be removed no earlier than 3 months after the release date. All implementations of the `BaseEstimatorV1` interface have been deprecated in favor of their V2 counterparts. The V2 alternative for the `Estimator` class is `StatevectorEstimator`.\n",
            "  vqe_solver1 = VQE(Estimator(), optimal_ansatz, SLSQP())\n",
            "<ipython-input-21-654da59716bb>:29: DeprecationWarning: The class ``qiskit.primitives.estimator.Estimator`` is deprecated as of qiskit 1.2. It will be removed no earlier than 3 months after the release date. All implementations of the `BaseEstimatorV1` interface have been deprecated in favor of their V2 counterparts. The V2 alternative for the `Estimator` class is `StatevectorEstimator`.\n",
            "  vqe_solver = VQE(Estimator(), ansatz, SLSQP())\n",
            "<ipython-input-21-654da59716bb>:30: DeprecationWarning: The class ``qiskit.primitives.estimator.Estimator`` is deprecated as of qiskit 1.2. It will be removed no earlier than 3 months after the release date. All implementations of the `BaseEstimatorV1` interface have been deprecated in favor of their V2 counterparts. The V2 alternative for the `Estimator` class is `StatevectorEstimator`.\n",
            "  vqe_solver1 = VQE(Estimator(), optimal_ansatz, SLSQP())\n",
            "<ipython-input-21-654da59716bb>:29: DeprecationWarning: The class ``qiskit.primitives.estimator.Estimator`` is deprecated as of qiskit 1.2. It will be removed no earlier than 3 months after the release date. All implementations of the `BaseEstimatorV1` interface have been deprecated in favor of their V2 counterparts. The V2 alternative for the `Estimator` class is `StatevectorEstimator`.\n",
            "  vqe_solver = VQE(Estimator(), ansatz, SLSQP())\n",
            "<ipython-input-21-654da59716bb>:30: DeprecationWarning: The class ``qiskit.primitives.estimator.Estimator`` is deprecated as of qiskit 1.2. It will be removed no earlier than 3 months after the release date. All implementations of the `BaseEstimatorV1` interface have been deprecated in favor of their V2 counterparts. The V2 alternative for the `Estimator` class is `StatevectorEstimator`.\n",
            "  vqe_solver1 = VQE(Estimator(), optimal_ansatz, SLSQP())\n",
            "<ipython-input-21-654da59716bb>:29: DeprecationWarning: The class ``qiskit.primitives.estimator.Estimator`` is deprecated as of qiskit 1.2. It will be removed no earlier than 3 months after the release date. All implementations of the `BaseEstimatorV1` interface have been deprecated in favor of their V2 counterparts. The V2 alternative for the `Estimator` class is `StatevectorEstimator`.\n",
            "  vqe_solver = VQE(Estimator(), ansatz, SLSQP())\n",
            "<ipython-input-21-654da59716bb>:30: DeprecationWarning: The class ``qiskit.primitives.estimator.Estimator`` is deprecated as of qiskit 1.2. It will be removed no earlier than 3 months after the release date. All implementations of the `BaseEstimatorV1` interface have been deprecated in favor of their V2 counterparts. The V2 alternative for the `Estimator` class is `StatevectorEstimator`.\n",
            "  vqe_solver1 = VQE(Estimator(), optimal_ansatz, SLSQP())\n",
            "<ipython-input-21-654da59716bb>:29: DeprecationWarning: The class ``qiskit.primitives.estimator.Estimator`` is deprecated as of qiskit 1.2. It will be removed no earlier than 3 months after the release date. All implementations of the `BaseEstimatorV1` interface have been deprecated in favor of their V2 counterparts. The V2 alternative for the `Estimator` class is `StatevectorEstimator`.\n",
            "  vqe_solver = VQE(Estimator(), ansatz, SLSQP())\n",
            "<ipython-input-21-654da59716bb>:30: DeprecationWarning: The class ``qiskit.primitives.estimator.Estimator`` is deprecated as of qiskit 1.2. It will be removed no earlier than 3 months after the release date. All implementations of the `BaseEstimatorV1` interface have been deprecated in favor of their V2 counterparts. The V2 alternative for the `Estimator` class is `StatevectorEstimator`.\n",
            "  vqe_solver1 = VQE(Estimator(), optimal_ansatz, SLSQP())\n",
            "<ipython-input-21-654da59716bb>:29: DeprecationWarning: The class ``qiskit.primitives.estimator.Estimator`` is deprecated as of qiskit 1.2. It will be removed no earlier than 3 months after the release date. All implementations of the `BaseEstimatorV1` interface have been deprecated in favor of their V2 counterparts. The V2 alternative for the `Estimator` class is `StatevectorEstimator`.\n",
            "  vqe_solver = VQE(Estimator(), ansatz, SLSQP())\n",
            "<ipython-input-21-654da59716bb>:30: DeprecationWarning: The class ``qiskit.primitives.estimator.Estimator`` is deprecated as of qiskit 1.2. It will be removed no earlier than 3 months after the release date. All implementations of the `BaseEstimatorV1` interface have been deprecated in favor of their V2 counterparts. The V2 alternative for the `Estimator` class is `StatevectorEstimator`.\n",
            "  vqe_solver1 = VQE(Estimator(), optimal_ansatz, SLSQP())\n",
            "<ipython-input-21-654da59716bb>:29: DeprecationWarning: The class ``qiskit.primitives.estimator.Estimator`` is deprecated as of qiskit 1.2. It will be removed no earlier than 3 months after the release date. All implementations of the `BaseEstimatorV1` interface have been deprecated in favor of their V2 counterparts. The V2 alternative for the `Estimator` class is `StatevectorEstimator`.\n",
            "  vqe_solver = VQE(Estimator(), ansatz, SLSQP())\n",
            "<ipython-input-21-654da59716bb>:30: DeprecationWarning: The class ``qiskit.primitives.estimator.Estimator`` is deprecated as of qiskit 1.2. It will be removed no earlier than 3 months after the release date. All implementations of the `BaseEstimatorV1` interface have been deprecated in favor of their V2 counterparts. The V2 alternative for the `Estimator` class is `StatevectorEstimator`.\n",
            "  vqe_solver1 = VQE(Estimator(), optimal_ansatz, SLSQP())\n",
            "<ipython-input-21-654da59716bb>:29: DeprecationWarning: The class ``qiskit.primitives.estimator.Estimator`` is deprecated as of qiskit 1.2. It will be removed no earlier than 3 months after the release date. All implementations of the `BaseEstimatorV1` interface have been deprecated in favor of their V2 counterparts. The V2 alternative for the `Estimator` class is `StatevectorEstimator`.\n",
            "  vqe_solver = VQE(Estimator(), ansatz, SLSQP())\n",
            "<ipython-input-21-654da59716bb>:30: DeprecationWarning: The class ``qiskit.primitives.estimator.Estimator`` is deprecated as of qiskit 1.2. It will be removed no earlier than 3 months after the release date. All implementations of the `BaseEstimatorV1` interface have been deprecated in favor of their V2 counterparts. The V2 alternative for the `Estimator` class is `StatevectorEstimator`.\n",
            "  vqe_solver1 = VQE(Estimator(), optimal_ansatz, SLSQP())\n",
            "<ipython-input-21-654da59716bb>:29: DeprecationWarning: The class ``qiskit.primitives.estimator.Estimator`` is deprecated as of qiskit 1.2. It will be removed no earlier than 3 months after the release date. All implementations of the `BaseEstimatorV1` interface have been deprecated in favor of their V2 counterparts. The V2 alternative for the `Estimator` class is `StatevectorEstimator`.\n",
            "  vqe_solver = VQE(Estimator(), ansatz, SLSQP())\n",
            "<ipython-input-21-654da59716bb>:30: DeprecationWarning: The class ``qiskit.primitives.estimator.Estimator`` is deprecated as of qiskit 1.2. It will be removed no earlier than 3 months after the release date. All implementations of the `BaseEstimatorV1` interface have been deprecated in favor of their V2 counterparts. The V2 alternative for the `Estimator` class is `StatevectorEstimator`.\n",
            "  vqe_solver1 = VQE(Estimator(), optimal_ansatz, SLSQP())\n",
            "<ipython-input-21-654da59716bb>:29: DeprecationWarning: The class ``qiskit.primitives.estimator.Estimator`` is deprecated as of qiskit 1.2. It will be removed no earlier than 3 months after the release date. All implementations of the `BaseEstimatorV1` interface have been deprecated in favor of their V2 counterparts. The V2 alternative for the `Estimator` class is `StatevectorEstimator`.\n",
            "  vqe_solver = VQE(Estimator(), ansatz, SLSQP())\n",
            "<ipython-input-21-654da59716bb>:30: DeprecationWarning: The class ``qiskit.primitives.estimator.Estimator`` is deprecated as of qiskit 1.2. It will be removed no earlier than 3 months after the release date. All implementations of the `BaseEstimatorV1` interface have been deprecated in favor of their V2 counterparts. The V2 alternative for the `Estimator` class is `StatevectorEstimator`.\n",
            "  vqe_solver1 = VQE(Estimator(), optimal_ansatz, SLSQP())\n",
            "<ipython-input-21-654da59716bb>:29: DeprecationWarning: The class ``qiskit.primitives.estimator.Estimator`` is deprecated as of qiskit 1.2. It will be removed no earlier than 3 months after the release date. All implementations of the `BaseEstimatorV1` interface have been deprecated in favor of their V2 counterparts. The V2 alternative for the `Estimator` class is `StatevectorEstimator`.\n",
            "  vqe_solver = VQE(Estimator(), ansatz, SLSQP())\n",
            "<ipython-input-21-654da59716bb>:30: DeprecationWarning: The class ``qiskit.primitives.estimator.Estimator`` is deprecated as of qiskit 1.2. It will be removed no earlier than 3 months after the release date. All implementations of the `BaseEstimatorV1` interface have been deprecated in favor of their V2 counterparts. The V2 alternative for the `Estimator` class is `StatevectorEstimator`.\n",
            "  vqe_solver1 = VQE(Estimator(), optimal_ansatz, SLSQP())\n",
            "<ipython-input-21-654da59716bb>:29: DeprecationWarning: The class ``qiskit.primitives.estimator.Estimator`` is deprecated as of qiskit 1.2. It will be removed no earlier than 3 months after the release date. All implementations of the `BaseEstimatorV1` interface have been deprecated in favor of their V2 counterparts. The V2 alternative for the `Estimator` class is `StatevectorEstimator`.\n",
            "  vqe_solver = VQE(Estimator(), ansatz, SLSQP())\n",
            "<ipython-input-21-654da59716bb>:30: DeprecationWarning: The class ``qiskit.primitives.estimator.Estimator`` is deprecated as of qiskit 1.2. It will be removed no earlier than 3 months after the release date. All implementations of the `BaseEstimatorV1` interface have been deprecated in favor of their V2 counterparts. The V2 alternative for the `Estimator` class is `StatevectorEstimator`.\n",
            "  vqe_solver1 = VQE(Estimator(), optimal_ansatz, SLSQP())\n",
            "<ipython-input-21-654da59716bb>:29: DeprecationWarning: The class ``qiskit.primitives.estimator.Estimator`` is deprecated as of qiskit 1.2. It will be removed no earlier than 3 months after the release date. All implementations of the `BaseEstimatorV1` interface have been deprecated in favor of their V2 counterparts. The V2 alternative for the `Estimator` class is `StatevectorEstimator`.\n",
            "  vqe_solver = VQE(Estimator(), ansatz, SLSQP())\n",
            "<ipython-input-21-654da59716bb>:30: DeprecationWarning: The class ``qiskit.primitives.estimator.Estimator`` is deprecated as of qiskit 1.2. It will be removed no earlier than 3 months after the release date. All implementations of the `BaseEstimatorV1` interface have been deprecated in favor of their V2 counterparts. The V2 alternative for the `Estimator` class is `StatevectorEstimator`.\n",
            "  vqe_solver1 = VQE(Estimator(), optimal_ansatz, SLSQP())\n",
            "<ipython-input-21-654da59716bb>:29: DeprecationWarning: The class ``qiskit.primitives.estimator.Estimator`` is deprecated as of qiskit 1.2. It will be removed no earlier than 3 months after the release date. All implementations of the `BaseEstimatorV1` interface have been deprecated in favor of their V2 counterparts. The V2 alternative for the `Estimator` class is `StatevectorEstimator`.\n",
            "  vqe_solver = VQE(Estimator(), ansatz, SLSQP())\n",
            "<ipython-input-21-654da59716bb>:30: DeprecationWarning: The class ``qiskit.primitives.estimator.Estimator`` is deprecated as of qiskit 1.2. It will be removed no earlier than 3 months after the release date. All implementations of the `BaseEstimatorV1` interface have been deprecated in favor of their V2 counterparts. The V2 alternative for the `Estimator` class is `StatevectorEstimator`.\n",
            "  vqe_solver1 = VQE(Estimator(), optimal_ansatz, SLSQP())\n",
            "<ipython-input-21-654da59716bb>:29: DeprecationWarning: The class ``qiskit.primitives.estimator.Estimator`` is deprecated as of qiskit 1.2. It will be removed no earlier than 3 months after the release date. All implementations of the `BaseEstimatorV1` interface have been deprecated in favor of their V2 counterparts. The V2 alternative for the `Estimator` class is `StatevectorEstimator`.\n",
            "  vqe_solver = VQE(Estimator(), ansatz, SLSQP())\n",
            "<ipython-input-21-654da59716bb>:30: DeprecationWarning: The class ``qiskit.primitives.estimator.Estimator`` is deprecated as of qiskit 1.2. It will be removed no earlier than 3 months after the release date. All implementations of the `BaseEstimatorV1` interface have been deprecated in favor of their V2 counterparts. The V2 alternative for the `Estimator` class is `StatevectorEstimator`.\n",
            "  vqe_solver1 = VQE(Estimator(), optimal_ansatz, SLSQP())\n",
            "<ipython-input-21-654da59716bb>:29: DeprecationWarning: The class ``qiskit.primitives.estimator.Estimator`` is deprecated as of qiskit 1.2. It will be removed no earlier than 3 months after the release date. All implementations of the `BaseEstimatorV1` interface have been deprecated in favor of their V2 counterparts. The V2 alternative for the `Estimator` class is `StatevectorEstimator`.\n",
            "  vqe_solver = VQE(Estimator(), ansatz, SLSQP())\n",
            "<ipython-input-21-654da59716bb>:30: DeprecationWarning: The class ``qiskit.primitives.estimator.Estimator`` is deprecated as of qiskit 1.2. It will be removed no earlier than 3 months after the release date. All implementations of the `BaseEstimatorV1` interface have been deprecated in favor of their V2 counterparts. The V2 alternative for the `Estimator` class is `StatevectorEstimator`.\n",
            "  vqe_solver1 = VQE(Estimator(), optimal_ansatz, SLSQP())\n",
            "<ipython-input-21-654da59716bb>:29: DeprecationWarning: The class ``qiskit.primitives.estimator.Estimator`` is deprecated as of qiskit 1.2. It will be removed no earlier than 3 months after the release date. All implementations of the `BaseEstimatorV1` interface have been deprecated in favor of their V2 counterparts. The V2 alternative for the `Estimator` class is `StatevectorEstimator`.\n",
            "  vqe_solver = VQE(Estimator(), ansatz, SLSQP())\n",
            "<ipython-input-21-654da59716bb>:30: DeprecationWarning: The class ``qiskit.primitives.estimator.Estimator`` is deprecated as of qiskit 1.2. It will be removed no earlier than 3 months after the release date. All implementations of the `BaseEstimatorV1` interface have been deprecated in favor of their V2 counterparts. The V2 alternative for the `Estimator` class is `StatevectorEstimator`.\n",
            "  vqe_solver1 = VQE(Estimator(), optimal_ansatz, SLSQP())\n",
            "<ipython-input-21-654da59716bb>:29: DeprecationWarning: The class ``qiskit.primitives.estimator.Estimator`` is deprecated as of qiskit 1.2. It will be removed no earlier than 3 months after the release date. All implementations of the `BaseEstimatorV1` interface have been deprecated in favor of their V2 counterparts. The V2 alternative for the `Estimator` class is `StatevectorEstimator`.\n",
            "  vqe_solver = VQE(Estimator(), ansatz, SLSQP())\n",
            "<ipython-input-21-654da59716bb>:30: DeprecationWarning: The class ``qiskit.primitives.estimator.Estimator`` is deprecated as of qiskit 1.2. It will be removed no earlier than 3 months after the release date. All implementations of the `BaseEstimatorV1` interface have been deprecated in favor of their V2 counterparts. The V2 alternative for the `Estimator` class is `StatevectorEstimator`.\n",
            "  vqe_solver1 = VQE(Estimator(), optimal_ansatz, SLSQP())\n",
            "<ipython-input-21-654da59716bb>:29: DeprecationWarning: The class ``qiskit.primitives.estimator.Estimator`` is deprecated as of qiskit 1.2. It will be removed no earlier than 3 months after the release date. All implementations of the `BaseEstimatorV1` interface have been deprecated in favor of their V2 counterparts. The V2 alternative for the `Estimator` class is `StatevectorEstimator`.\n",
            "  vqe_solver = VQE(Estimator(), ansatz, SLSQP())\n",
            "<ipython-input-21-654da59716bb>:30: DeprecationWarning: The class ``qiskit.primitives.estimator.Estimator`` is deprecated as of qiskit 1.2. It will be removed no earlier than 3 months after the release date. All implementations of the `BaseEstimatorV1` interface have been deprecated in favor of their V2 counterparts. The V2 alternative for the `Estimator` class is `StatevectorEstimator`.\n",
            "  vqe_solver1 = VQE(Estimator(), optimal_ansatz, SLSQP())\n",
            "<ipython-input-21-654da59716bb>:29: DeprecationWarning: The class ``qiskit.primitives.estimator.Estimator`` is deprecated as of qiskit 1.2. It will be removed no earlier than 3 months after the release date. All implementations of the `BaseEstimatorV1` interface have been deprecated in favor of their V2 counterparts. The V2 alternative for the `Estimator` class is `StatevectorEstimator`.\n",
            "  vqe_solver = VQE(Estimator(), ansatz, SLSQP())\n",
            "<ipython-input-21-654da59716bb>:30: DeprecationWarning: The class ``qiskit.primitives.estimator.Estimator`` is deprecated as of qiskit 1.2. It will be removed no earlier than 3 months after the release date. All implementations of the `BaseEstimatorV1` interface have been deprecated in favor of their V2 counterparts. The V2 alternative for the `Estimator` class is `StatevectorEstimator`.\n",
            "  vqe_solver1 = VQE(Estimator(), optimal_ansatz, SLSQP())\n",
            "<ipython-input-21-654da59716bb>:29: DeprecationWarning: The class ``qiskit.primitives.estimator.Estimator`` is deprecated as of qiskit 1.2. It will be removed no earlier than 3 months after the release date. All implementations of the `BaseEstimatorV1` interface have been deprecated in favor of their V2 counterparts. The V2 alternative for the `Estimator` class is `StatevectorEstimator`.\n",
            "  vqe_solver = VQE(Estimator(), ansatz, SLSQP())\n",
            "<ipython-input-21-654da59716bb>:30: DeprecationWarning: The class ``qiskit.primitives.estimator.Estimator`` is deprecated as of qiskit 1.2. It will be removed no earlier than 3 months after the release date. All implementations of the `BaseEstimatorV1` interface have been deprecated in favor of their V2 counterparts. The V2 alternative for the `Estimator` class is `StatevectorEstimator`.\n",
            "  vqe_solver1 = VQE(Estimator(), optimal_ansatz, SLSQP())\n",
            "<ipython-input-21-654da59716bb>:29: DeprecationWarning: The class ``qiskit.primitives.estimator.Estimator`` is deprecated as of qiskit 1.2. It will be removed no earlier than 3 months after the release date. All implementations of the `BaseEstimatorV1` interface have been deprecated in favor of their V2 counterparts. The V2 alternative for the `Estimator` class is `StatevectorEstimator`.\n",
            "  vqe_solver = VQE(Estimator(), ansatz, SLSQP())\n",
            "<ipython-input-21-654da59716bb>:30: DeprecationWarning: The class ``qiskit.primitives.estimator.Estimator`` is deprecated as of qiskit 1.2. It will be removed no earlier than 3 months after the release date. All implementations of the `BaseEstimatorV1` interface have been deprecated in favor of their V2 counterparts. The V2 alternative for the `Estimator` class is `StatevectorEstimator`.\n",
            "  vqe_solver1 = VQE(Estimator(), optimal_ansatz, SLSQP())\n",
            "<ipython-input-21-654da59716bb>:29: DeprecationWarning: The class ``qiskit.primitives.estimator.Estimator`` is deprecated as of qiskit 1.2. It will be removed no earlier than 3 months after the release date. All implementations of the `BaseEstimatorV1` interface have been deprecated in favor of their V2 counterparts. The V2 alternative for the `Estimator` class is `StatevectorEstimator`.\n",
            "  vqe_solver = VQE(Estimator(), ansatz, SLSQP())\n",
            "<ipython-input-21-654da59716bb>:30: DeprecationWarning: The class ``qiskit.primitives.estimator.Estimator`` is deprecated as of qiskit 1.2. It will be removed no earlier than 3 months after the release date. All implementations of the `BaseEstimatorV1` interface have been deprecated in favor of their V2 counterparts. The V2 alternative for the `Estimator` class is `StatevectorEstimator`.\n",
            "  vqe_solver1 = VQE(Estimator(), optimal_ansatz, SLSQP())\n",
            "<ipython-input-21-654da59716bb>:29: DeprecationWarning: The class ``qiskit.primitives.estimator.Estimator`` is deprecated as of qiskit 1.2. It will be removed no earlier than 3 months after the release date. All implementations of the `BaseEstimatorV1` interface have been deprecated in favor of their V2 counterparts. The V2 alternative for the `Estimator` class is `StatevectorEstimator`.\n",
            "  vqe_solver = VQE(Estimator(), ansatz, SLSQP())\n",
            "<ipython-input-21-654da59716bb>:30: DeprecationWarning: The class ``qiskit.primitives.estimator.Estimator`` is deprecated as of qiskit 1.2. It will be removed no earlier than 3 months after the release date. All implementations of the `BaseEstimatorV1` interface have been deprecated in favor of their V2 counterparts. The V2 alternative for the `Estimator` class is `StatevectorEstimator`.\n",
            "  vqe_solver1 = VQE(Estimator(), optimal_ansatz, SLSQP())\n",
            "<ipython-input-21-654da59716bb>:29: DeprecationWarning: The class ``qiskit.primitives.estimator.Estimator`` is deprecated as of qiskit 1.2. It will be removed no earlier than 3 months after the release date. All implementations of the `BaseEstimatorV1` interface have been deprecated in favor of their V2 counterparts. The V2 alternative for the `Estimator` class is `StatevectorEstimator`.\n",
            "  vqe_solver = VQE(Estimator(), ansatz, SLSQP())\n",
            "<ipython-input-21-654da59716bb>:30: DeprecationWarning: The class ``qiskit.primitives.estimator.Estimator`` is deprecated as of qiskit 1.2. It will be removed no earlier than 3 months after the release date. All implementations of the `BaseEstimatorV1` interface have been deprecated in favor of their V2 counterparts. The V2 alternative for the `Estimator` class is `StatevectorEstimator`.\n",
            "  vqe_solver1 = VQE(Estimator(), optimal_ansatz, SLSQP())\n",
            "<ipython-input-21-654da59716bb>:29: DeprecationWarning: The class ``qiskit.primitives.estimator.Estimator`` is deprecated as of qiskit 1.2. It will be removed no earlier than 3 months after the release date. All implementations of the `BaseEstimatorV1` interface have been deprecated in favor of their V2 counterparts. The V2 alternative for the `Estimator` class is `StatevectorEstimator`.\n",
            "  vqe_solver = VQE(Estimator(), ansatz, SLSQP())\n",
            "<ipython-input-21-654da59716bb>:30: DeprecationWarning: The class ``qiskit.primitives.estimator.Estimator`` is deprecated as of qiskit 1.2. It will be removed no earlier than 3 months after the release date. All implementations of the `BaseEstimatorV1` interface have been deprecated in favor of their V2 counterparts. The V2 alternative for the `Estimator` class is `StatevectorEstimator`.\n",
            "  vqe_solver1 = VQE(Estimator(), optimal_ansatz, SLSQP())\n",
            "<ipython-input-21-654da59716bb>:29: DeprecationWarning: The class ``qiskit.primitives.estimator.Estimator`` is deprecated as of qiskit 1.2. It will be removed no earlier than 3 months after the release date. All implementations of the `BaseEstimatorV1` interface have been deprecated in favor of their V2 counterparts. The V2 alternative for the `Estimator` class is `StatevectorEstimator`.\n",
            "  vqe_solver = VQE(Estimator(), ansatz, SLSQP())\n",
            "<ipython-input-21-654da59716bb>:30: DeprecationWarning: The class ``qiskit.primitives.estimator.Estimator`` is deprecated as of qiskit 1.2. It will be removed no earlier than 3 months after the release date. All implementations of the `BaseEstimatorV1` interface have been deprecated in favor of their V2 counterparts. The V2 alternative for the `Estimator` class is `StatevectorEstimator`.\n",
            "  vqe_solver1 = VQE(Estimator(), optimal_ansatz, SLSQP())\n"
          ]
        },
        {
          "output_type": "display_data",
          "data": {
            "text/plain": [
              "<Figure size 800x600 with 1 Axes>"
            ],
            "image/png": "[encoded data removed]"
          },
          "metadata": {}
        }
      ]
    }
  ]
}